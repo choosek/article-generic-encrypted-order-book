{
 "cells": [
  {
   "cell_type": "markdown",
   "metadata": {
    "slideshow": {
     "slide_type": "slide"
    }
   },
   "source": [
    "# Generic Template for a Basic Encrypted Order Book (via Sorted Arrays)"
   ]
  },
  {
   "cell_type": "markdown",
   "metadata": {
    "slideshow": {
     "slide_type": "slide"
    }
   },
   "source": [
    "An *encrypted order book* is an [order book](https://en.wikipedia.org/wiki/Order_book) in which orders are submitted in encrypted form and remain encrypted until they are revealed as part of a matching pair. This document presents a generic template for an encrypted order book that relies on maintaining sorted arrays of submitted orders. An encrypted order book implementation can be built based on this template by providing implementations of the base functions (for example, using a secure multi-party computation or homomorphic encryption scheme) that can operate on encrypted data."
   ]
  },
  {
   "cell_type": "markdown",
   "metadata": {
    "slideshow": {
     "slide_type": "slide"
    }
   },
   "source": [
    "## Data Structures and Functions"
   ]
  },
  {
   "cell_type": "markdown",
   "metadata": {
    "slideshow": {
     "slide_type": "slide"
    }
   },
   "source": [
    "The data structures and functions below are reference implementations that represent and operate on data in the clear. In order to implement an encrypted order book, only the [**base functions**](#base-functions-on-orders) must be implemented in such a way that they can be applied to encrypted orders."
   ]
  },
  {
   "cell_type": "markdown",
   "metadata": {
    "slideshow": {
     "slide_type": "slide"
    }
   },
   "source": [
    "### Order Data Structure<a id='order-data-structure'></a>"
   ]
  },
  {
   "cell_type": "markdown",
   "metadata": {
    "slideshow": {
     "slide_type": "slide"
    }
   },
   "source": [
    "An order consists of an integer price and an integer quantity. The particular commodity, security, or other category of good to which the order corresponds is assumed to be tracked in some manner that falls outside the scope of the template presented in this article."
   ]
  },
  {
   "cell_type": "code",
   "execution_count": 17,
   "metadata": {},
   "outputs": [],
   "source": [
    "from __future__ import annotations\n",
    "\n",
    "class order:\n",
    "    \"\"\"\n",
    "    Individual orders (consisting of an integer price and an integer quantity).\n",
    "    \"\"\"\n",
    "    def __init__(self, price: int, quantity: int):\n",
    "        self.price: int = price\n",
    "        self.quantity: int = quantity\n",
    "    \n",
    "    def __repr__(self: order) -> str:\n",
    "        \"\"\"\n",
    "        Return a human-readable and ``eval``-friendly representation.\n",
    "        \"\"\"\n",
    "        return 'order' + str((self.price, self.quantity))"
   ]
  },
  {
   "cell_type": "markdown",
   "metadata": {
    "slideshow": {
     "slide_type": "slide"
    }
   },
   "source": [
    "### Primitive Operations for Simple Types<a id='primitive-operations-for-simple-types'></a>"
   ]
  },
  {
   "cell_type": "markdown",
   "metadata": {
    "slideshow": {
     "slide_type": "slide"
    }
   },
   "source": [
    "To implement an encrypted order book, every [**base function**](#base-functions-on-orders) must be implemented using a secure computation scheme. The base functions can be implemented either (1) via composition of primitive operations that can be applied to encrypted integer and boolean values or (2) as high-level, black-box functions (*e.g.*, custom-built MPC protocols) that be applied to encrypted orders. To accommodate scenario (1), this section provides a comprehensive collection of primitive operations (in the form of reference implementations that operate on plaintext integer and boolean values). For completeness, these reference implementations are also used within the reference implementations of the [**base functions**](#base-functions-on-orders) (both directly and via [**primitive operations for non-simple types**](#primitive-operations-for-non-simple-types))."
   ]
  },
  {
   "cell_type": "code",
   "execution_count": 18,
   "metadata": {},
   "outputs": [],
   "source": [
    "def or_(a: bool, b: bool) -> bool:\n",
    "    \"\"\"\n",
    "    Returns the disjunction of the two boolean arguments.\n",
    "    \"\"\"\n",
    "    return a or b\n",
    "\n",
    "def if_then_else(c: bool, n: int, m: int) -> int:\n",
    "    \"\"\"\n",
    "    Ternary operator that returns the second argument if the first is true,\n",
    "    and otherwise returns the third argument.\n",
    "    \"\"\"\n",
    "    return n if c else m\n",
    "\n",
    "def equal_to_zero(n: int) -> bool:\n",
    "    \"\"\"\n",
    "    Returns a boolean that represents whether the argument is equal to zero.\n",
    "    \"\"\"\n",
    "    return n == 0\n",
    "\n",
    "def less_than(n: int, m: int) -> bool:\n",
    "    \"\"\"\n",
    "    Returns a boolean value that represents whether the first argument is\n",
    "    strictly less than the second argument. \n",
    "    \"\"\"\n",
    "    return n < m\n",
    "\n",
    "def minus(n: int, m: int) -> int:\n",
    "    \"\"\"\n",
    "    Return the integer result of subtracting the second argument\n",
    "    from the first argument.\n",
    "    \"\"\"\n",
    "    return n - m\n",
    "\n",
    "def minimum(n: int, m: int) -> int:\n",
    "    \"\"\"\n",
    "    Return the smaller of the two arguments.\n",
    "    \"\"\"\n",
    "    return if_then_else(less_than(n, m), n, m)\n",
    "\n",
    "def maximum(n: int, m: int) -> int:\n",
    "    \"\"\"\n",
    "    Return the larger of the two arguments.\n",
    "    \"\"\"\n",
    "    return if_then_else(less_than(n, m), m, n)"
   ]
  },
  {
   "cell_type": "markdown",
   "metadata": {
    "slideshow": {
     "slide_type": "slide"
    }
   },
   "source": [
    "### Primitive Operations for Non-Simple Types<a id='primitive-operations-for-non-simple-types'></a>"
   ]
  },
  {
   "cell_type": "markdown",
   "metadata": {
    "slideshow": {
     "slide_type": "slide"
    }
   },
   "source": [
    "It is natural to define variants of [**primitive operations defined on simple types**](#primitive-operations-for-simple-types) for more complex types (such as tuples) and/or to user-defined types (such as [**orders**](#order-data-structure)). The primitive operations below are defined for instances of the [**order data structure**](#order-data-structure) and pairs thereof (using only [**primitive operations defined on simple types**](#primitive-operations-for-simple-types)). In a more mature language and compiler framework, polymorphic primitive operations corresponding to those below might be made available."
   ]
  },
  {
   "cell_type": "code",
   "execution_count": 19,
   "metadata": {},
   "outputs": [],
   "source": [
    "def if_then_else_order(c: bool, x: order, y: order) -> order:\n",
    "    \"\"\"\n",
    "    Ternary operator that returns the second argument if the first is true,\n",
    "    and otherwise returns the third argument.\n",
    "    \"\"\"\n",
    "    price = if_then_else(c, x.price, y.price)\n",
    "    quantity = if_then_else(c, x.quantity, y.quantity)\n",
    "    return order(price, quantity)\n",
    "\n",
    "def minimum_order(x: order, y: order) -> order:\n",
    "    \"\"\"\n",
    "    Return the order with the smaller price.\n",
    "    \"\"\"\n",
    "    condition = less_than(x.price, y.price)\n",
    "    price = if_then_else(condition, x.price, y.price)\n",
    "    quantity = if_then_else(condition, x.quantity, y.quantity)\n",
    "    return order(price, quantity)\n",
    "\n",
    "def maximum_order(x: order, y: order) -> order:\n",
    "    \"\"\"\n",
    "    Return the order with the larger price.\n",
    "    \"\"\"\n",
    "    condition = less_than(x.price, y.price)\n",
    "    price = if_then_else(condition, y.price, x.price)\n",
    "    quantity = if_then_else(condition, y.quantity, x.quantity)\n",
    "    return order(price, quantity)\n",
    "\n",
    "def if_then_else_pair(\n",
    "        c: bool,\n",
    "        p: tuple[order, order],\n",
    "        q: tuple[order, order]\n",
    "    ) -> tuple[order, order]:\n",
    "    \"\"\"\n",
    "    Ternary operator that returns the second argument if the first is true,\n",
    "    and otherwise returns the third argument.\n",
    "    \"\"\"\n",
    "    return (\n",
    "        if_then_else(c, p[0], q[0]),\n",
    "        if_then_else(c, p[1], q[1])\n",
    "    )"
   ]
  },
  {
   "cell_type": "markdown",
   "metadata": {
    "slideshow": {
     "slide_type": "slide"
    }
   },
   "source": [
    "### Base Functions on Orders<a id='base-functions-on-orders'></a>"
   ]
  },
  {
   "cell_type": "markdown",
   "metadata": {
    "slideshow": {
     "slide_type": "slide"
    }
   },
   "source": [
    "To implement an encrypted order book, every function in this section must be implemented using a secure computation scheme (such that the function can be applied to pairs of encrypted orders). This can either be accomplished by (1) leveraging primitive operations on [**simple**](#primitive-operations-for-simple-types) and [**non-simple**](#primitive-operations-for-non-simple-types) types that can be applied to encrypted values or (2) implementing the functions directly as black boxes using some other approach."
   ]
  },
  {
   "cell_type": "markdown",
   "metadata": {
    "slideshow": {
     "slide_type": "slide"
    }
   },
   "source": [
    "Orders can be sorted according to price, except that orders that have a ``quantity`` of ``0`` should always appear earlier. In order to implement an encrypted order book, it must be possible to evaluate the ``ascending`` and ``descending`` functions presented below on pairs of encrypted orders. These functions are used to maintain [**encrypted sorted arrays**](#sorted-array-data-structure) of orders."
   ]
  },
  {
   "cell_type": "code",
   "execution_count": 20,
   "metadata": {},
   "outputs": [],
   "source": [
    "from typing import Callable\n",
    "\n",
    "oo: float = float('inf')\n",
    "\n",
    "def descending(pair: tuple[order, order]) -> tuple[order, order]:\n",
    "    \"\"\"\n",
    "    Return a tuple in which the two orders in the supplied tuple are\n",
    "    arranged in descending order by price, except that any order with\n",
    "    a quantity of zero appears earlier. Effectively, the below algorithm\n",
    "    is implemented using primitive operations:\n",
    "\n",
    "        (x, y) = pair\n",
    "\n",
    "        if x.quantity == 0:\n",
    "            return (x, y)\n",
    "\n",
    "        if y.quantity == 0:\n",
    "            return (y, x)\n",
    "\n",
    "        return (max(x, y), min(x, y))\n",
    "\n",
    "    \"\"\"\n",
    "    (x, y) = pair\n",
    "\n",
    "    x_quantity_is_zero = equal_to_zero(x.quantity)\n",
    "    y_quantity_is_zero = equal_to_zero(y.quantity)\n",
    "\n",
    "    return if_then_else_pair(\n",
    "        y_quantity_is_zero,\n",
    "        (y, x),\n",
    "        if_then_else_pair(\n",
    "            x_quantity_is_zero,\n",
    "            (x, y),\n",
    "            (maximum_order(x, y), minimum_order(x, y))\n",
    "        )\n",
    "    )\n",
    "\n",
    "def ascending(pair: tuple[order, order]) -> tuple[order, order]:\n",
    "    \"\"\"\n",
    "    Return a tuple in which the two orders in the supplied tuple are\n",
    "    arranged in ascending order by price, except that any order with\n",
    "    a quantity of zero appears earlier.\n",
    "    \"\"\"\n",
    "    (x, y) = pair\n",
    "\n",
    "    x_quantity_is_zero = equal_to_zero(x.quantity)\n",
    "    y_quantity_is_zero = equal_to_zero(y.quantity)\n",
    "\n",
    "    return if_then_else_pair(\n",
    "        y_quantity_is_zero,\n",
    "        (y, x),\n",
    "        if_then_else_pair(\n",
    "            x_quantity_is_zero,\n",
    "            (x, y),\n",
    "            (minimum_order(x, y), maximum_order(x, y))\n",
    "        )\n",
    "    )"
   ]
  },
  {
   "cell_type": "markdown",
   "metadata": {
    "slideshow": {
     "slide_type": "slide"
    }
   },
   "source": [
    "In order to implement an encrypted order book, it must be possible to evaluate the ``matched`` and ``updated`` functions defined below on pairs of encrypted orders. These are used by the [**order book implementation**](#order-book-implementation) to determine whether a match has occurred, and to update the order book's arrays in a way that reflects the effects of an executed match."
   ]
  },
  {
   "cell_type": "code",
   "execution_count": 21,
   "metadata": {},
   "outputs": [],
   "source": [
    "from typing import Optional\n",
    "\n",
    "def matched(ask_bid: tuple[order, order]) -> Optional[tuple[int, int]]:\n",
    "    \"\"\"\n",
    "    Return a tuple indicating the price and quantity of a transaction\n",
    "    (if one is possible) or ``None`` (if one is not possible).\n",
    "    \"\"\"\n",
    "    (ask, bid) = ask_bid\n",
    "    quantity = minimum(ask.quantity, bid.quantity)\n",
    "    bid_lower_than_ask = less_than(bid.price, ask.price)\n",
    "    return_none = or_(bid_lower_than_ask, equal_to_zero(quantity))\n",
    "\n",
    "    # The value of ``return_none`` is decrypted and the computation below\n",
    "    # returns a decrypted price and quantity if ``return_none == False``.\n",
    "    return (\n",
    "        None\n",
    "        if return_none else\n",
    "        (ask.price, quantity)\n",
    "    )\n",
    "\n",
    "def updated(ask_bid: tuple[order, order]) -> tuple[order, order]:\n",
    "    \"\"\"\n",
    "    Return a tuple that either (1) is identical to the input tuple because\n",
    "    there is no match or (2) updated to reflect the transaction.\n",
    "    \"\"\"\n",
    "    (ask, bid) = ask_bid\n",
    "    quantity = minimum(ask.quantity, bid.quantity)\n",
    "    return if_then_else_pair(\n",
    "        less_than(bid.price, ask.price),\n",
    "        ask_bid, # No change.\n",
    "        ( # Perform transaction and return updated orders.\n",
    "            order(ask.price, minus(ask.quantity, quantity)),\n",
    "            order(bid.price, minus(bid.quantity, quantity))\n",
    "        )\n",
    "    )"
   ]
  },
  {
   "cell_type": "markdown",
   "metadata": {
    "slideshow": {
     "slide_type": "slide"
    }
   },
   "source": [
    "### Sorted Array Data Structure<a id=\"sorted-array-data-structure\"></a>"
   ]
  },
  {
   "cell_type": "markdown",
   "metadata": {
    "slideshow": {
     "slide_type": "slide"
    }
   },
   "source": [
    "A sorted array maintains orders in either an ascending or a descending arrangement according to a specific sorting function (that operates on one pair of orders at a time)."
   ]
  },
  {
   "cell_type": "code",
   "execution_count": 22,
   "metadata": {},
   "outputs": [],
   "source": [
    "from typing import Callable\n",
    "\n",
    "class array(list):\n",
    "    \"\"\"\n",
    "    Arrays of orders (usually maintained in ascending or descending order).\n",
    "    \"\"\"\n",
    "    def arrange(\n",
    "            self: array,\n",
    "            function: Callable[[tuple[order, order]], tuple[order, order]]\n",
    "        ):\n",
    "        \"\"\"\n",
    "        Arrange this instance such that every pair is sorted\n",
    "        according to the supplied function.\n",
    "        \"\"\"\n",
    "        for i in range(len(self) - 1):\n",
    "            pair = (self[i], self[i + 1])\n",
    "            (x, y) = function(pair)\n",
    "            self[i] = x\n",
    "            self[i + 1] = y\n",
    "\n",
    "    def add(\n",
    "            self: array,\n",
    "            entry: order,\n",
    "            function: Callable[[tuple[order, order]], tuple[order, order]]\n",
    "        ):\n",
    "        \"\"\"\n",
    "        Add a new entry and arrange the array.\n",
    "        \"\"\"\n",
    "        self[0] = entry\n",
    "        self.arrange(function)"
   ]
  },
  {
   "cell_type": "markdown",
   "metadata": {
    "slideshow": {
     "slide_type": "slide"
    }
   },
   "source": [
    "The example below tests the ``array`` data structure."
   ]
  },
  {
   "cell_type": "code",
   "execution_count": 23,
   "metadata": {},
   "outputs": [
    {
     "name": "stdout",
     "output_type": "stream",
     "text": [
      "[order(8, 1), order(7, 1), order(4, 1)] [order(1, 1), order(1, 1), order(6, 1)]\n"
     ]
    }
   ],
   "source": [
    "from random import randint\n",
    "\n",
    "oo: float = float('inf')\n",
    "\n",
    "length = 3\n",
    "rs = [order(randint(1, 6), 1) for _ in range(length)]\n",
    "bids = array([order(0, 0) for _ in range(length)])\n",
    "for r in rs:\n",
    "    bids.add(r, ascending)\n",
    "\n",
    "rs = [order(randint(4, 9), 1) for _ in range(length)]\n",
    "asks = array([order(oo, 0) for _ in range(length)])\n",
    "for r in rs:\n",
    "    asks.add(r, descending)\n",
    "\n",
    "print(asks, bids)"
   ]
  },
  {
   "cell_type": "markdown",
   "metadata": {
    "slideshow": {
     "slide_type": "slide"
    }
   },
   "source": [
    "## Order Book Implementation<a id='order-book-implementation'></a>"
   ]
  },
  {
   "cell_type": "markdown",
   "metadata": {
    "slideshow": {
     "slide_type": "slide"
    }
   },
   "source": [
    "The order book implementation maintains two sorted arrays (one for asks and one for bids). When a new order is added, the below steps are executed.\n",
    "1. The order is added to the appropriate array and the array is arranged.\n",
    "2. The last entries from the two arrays are processed using the matching functions.\n",
    "3. If a match occurred, the arrays are arranged again and execution returns to step (2) above (in case there are new matches given the rearranged arrays). "
   ]
  },
  {
   "cell_type": "code",
   "execution_count": 24,
   "metadata": {},
   "outputs": [],
   "source": [
    "from typing import Optional\n",
    "\n",
    "class book:\n",
    "    \"\"\"\n",
    "    An order book that allows the submission of bid and ask orders,\n",
    "    as well as matching of orders.\n",
    "    \"\"\"\n",
    "    def __init__(self: book, size: int):\n",
    "        \"\"\"\n",
    "        Initialize an order book of the specified size. No more\n",
    "        bid orders can be submitted after ``size`` bid orders have\n",
    "        been submitted (and likewise for ask orders).\n",
    "        \"\"\"\n",
    "        self.asks = array([order(oo, 0) for _ in range(size)])\n",
    "        self.bids = array([order(0, 0) for _ in range(size)])\n",
    "\n",
    "    def ask(self: book, order: order):\n",
    "        \"\"\"\n",
    "        Add an ask order (and sort the array of asks).\n",
    "        \"\"\"\n",
    "        self.asks.add(order, descending)\n",
    "\n",
    "    def bid(self: book, order: order):\n",
    "        \"\"\"\n",
    "        Add a bid order (and sort the array of bids).\n",
    "        \"\"\"\n",
    "        self.bids.add(order, ascending)\n",
    "\n",
    "    def match(self: book) -> Optional[tuple[int, int]]:\n",
    "        \"\"\"\n",
    "        Update the last entries of the ask and bid arrays using\n",
    "        the matching function. Then, sort both arrays to move any\n",
    "        exhausted orders to earlier positions.\n",
    "        \"\"\"\n",
    "        ask = self.asks[-1]\n",
    "        bid = self.bids[-1]\n",
    "        outcome = matched((ask, bid))\n",
    "        \n",
    "        if outcome is not None:\n",
    "            (ask, bid) = updated((ask, bid))\n",
    "            self.asks[-1] = ask\n",
    "            self.bids[-1] = bid\n",
    "            self.asks.arrange(descending)\n",
    "            self.bids.arrange(ascending)\n",
    "            \n",
    "        return outcome"
   ]
  },
  {
   "cell_type": "markdown",
   "metadata": {
    "slideshow": {
     "slide_type": "slide"
    }
   },
   "source": [
    "The example below tests the ``book`` data structure on a sequence of orders."
   ]
  },
  {
   "cell_type": "code",
   "execution_count": 25,
   "metadata": {},
   "outputs": [
    {
     "name": "stdout",
     "output_type": "stream",
     "text": [
      "bid order(300, 2)\n",
      "None\n",
      "\n",
      "bid order(200, 8)\n",
      "None\n",
      "\n",
      "ask order(800, 7)\n",
      "None\n",
      "\n",
      "ask order(200, 8)\n",
      "(200, 2)\n",
      "(200, 6)\n",
      "None\n",
      "\n",
      "ask order(700, 7)\n",
      "None\n",
      "\n",
      "ask order(800, 5)\n",
      "None\n",
      "\n",
      "ask order(200, 6)\n",
      "(200, 2)\n",
      "None\n",
      "\n"
     ]
    }
   ],
   "source": [
    "from random import randint, choice, seed\n",
    "\n",
    "seed(1)\n",
    "b = book(6)\n",
    "orders = [\n",
    "    (\n",
    "        order(randint(1, 9) * 100, randint(1, 9)),\n",
    "        choice(['ask', 'bid'])\n",
    "    )\n",
    "    for _ in range(7)\n",
    "]\n",
    "for (o, ask_or_bid) in orders:\n",
    "    print(ask_or_bid, o)\n",
    "    getattr(b, ask_or_bid)(o)\n",
    "    transaction = ()\n",
    "    while transaction is not None:\n",
    "        transaction = b.match()\n",
    "        print(transaction)\n",
    "    print()"
   ]
  },
  {
   "cell_type": "code",
   "execution_count": 10,
   "metadata": {},
   "outputs": [],
   "source": [
    "# End of file."
   ]
  }
 ],
 "metadata": {
  "anaconda-cloud": {},
  "celltoolbar": "Slideshow",
  "kernelspec": {
   "display_name": "Python 3 (ipykernel)",
   "language": "python",
   "name": "python3"
  },
  "language_info": {
   "codemirror_mode": {
    "name": "ipython",
    "version": 3
   },
   "file_extension": ".py",
   "mimetype": "text/x-python",
   "name": "python",
   "nbconvert_exporter": "python",
   "pygments_lexer": "ipython3",
   "version": "3.11.3"
  }
 },
 "nbformat": 4,
 "nbformat_minor": 4
}
