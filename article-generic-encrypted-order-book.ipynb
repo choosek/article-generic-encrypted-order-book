{
 "cells": [
  {
   "cell_type": "markdown",
   "metadata": {
    "slideshow": {
     "slide_type": "slide"
    }
   },
   "source": [
    "# Generic Template for a Basic Encrypted Order Book (via Sorted Arrays)"
   ]
  },
  {
   "cell_type": "markdown",
   "metadata": {
    "slideshow": {
     "slide_type": "slide"
    }
   },
   "source": [
    "An *encrypted order book* is an [order book](https://en.wikipedia.org/wiki/Order_book) in which orders are submitted in encrypted form and remain encrypted until they are revealed as part of a matching pair. This document presents a generic template for an encrypted order book that relies on maintaining sorted arrays of submitted orders. An encrypted order book implementation can be built based on this template by providing implementations of the base functions (for example, using a secure multi-party computation or homomorphic encryption scheme) that can operate on encrypted data."
   ]
  },
  {
   "cell_type": "markdown",
   "metadata": {
    "slideshow": {
     "slide_type": "slide"
    }
   },
   "source": [
    "## Data Structures and Functions"
   ]
  },
  {
   "cell_type": "markdown",
   "metadata": {
    "slideshow": {
     "slide_type": "slide"
    }
   },
   "source": [
    "The data structures and functions below are reference implementations that represent and operate on data in the clear. In order to implement an encrypted order book, only the [**base functions**](#base-functions-on-orders) must be implemented in such a way that they can be applied to encrypted orders."
   ]
  },
  {
   "cell_type": "markdown",
   "metadata": {
    "slideshow": {
     "slide_type": "slide"
    }
   },
   "source": [
    "### Order Data Structure"
   ]
  },
  {
   "cell_type": "markdown",
   "metadata": {
    "slideshow": {
     "slide_type": "slide"
    }
   },
   "source": [
    "An order consists of an integer price and an integer quantity. Orders can be compared. In order to implement an encrypted order book, it is not necessarily required that comparison operations between encrypted orders need to be supported directly. Only each of the [**base functions**](#base-functions-on-orders) (as a whole) must be supported; these base function implementations may utilize a specialized or partial variant of a comparison protocol that is well-suited to the overall base function."
   ]
  },
  {
   "cell_type": "code",
   "execution_count": 5,
   "metadata": {},
   "outputs": [],
   "source": [
    "from __future__ import annotations\n",
    "\n",
    "class order:\n",
    "    \"\"\"\n",
    "    Individual orders (consisting of an integer price and an integer quantity).\n",
    "    \"\"\"\n",
    "    def __init__(self, price: int, quantity: int):\n",
    "        self.price: int = price\n",
    "        self.quantity:int = quantity\n",
    "    \n",
    "    def __lt__(self: order, other: order) -> bool:\n",
    "        \"\"\"\n",
    "        Compare two orders based on their price.\n",
    "        \"\"\"\n",
    "        return self.price < other.price\n",
    "\n",
    "    def __le__(self: order, other: order) -> bool:\n",
    "        \"\"\"\n",
    "        Compare two orders based on their price.\n",
    "        \"\"\"\n",
    "        return self.price <= other.price\n",
    "\n",
    "    def __repr__(self: order) -> str:\n",
    "        \"\"\"\n",
    "        Return a human-readable and ``eval``-friendly representation.\n",
    "        \"\"\"\n",
    "        return 'order' + str((self.price, self.quantity))"
   ]
  },
  {
   "cell_type": "markdown",
   "metadata": {
    "slideshow": {
     "slide_type": "slide"
    }
   },
   "source": [
    "### Base Functions on Orders<a id='base-functions-on-orders'></a>"
   ]
  },
  {
   "cell_type": "markdown",
   "metadata": {
    "slideshow": {
     "slide_type": "slide"
    }
   },
   "source": [
    "To implement an encrypted order book, every function in this section must be implemented using a secure computation scheme (such that the function can be applied to pairs of encrypted orders)."
   ]
  },
  {
   "cell_type": "markdown",
   "metadata": {
    "slideshow": {
     "slide_type": "slide"
    }
   },
   "source": [
    "Orders can be sorted according to price, except that orders that have a ``quantity`` of ``0`` should always appear earlier. In order to implement an encrypted order book, it must be possible to evaluate the ``ascending`` and ``descending`` functions presented below on pairs of encrypted orders. These functions are used to maintain [**encrypted sorted arrays**](#sorted-array-data-structure) of orders."
   ]
  },
  {
   "cell_type": "code",
   "execution_count": 6,
   "metadata": {},
   "outputs": [],
   "source": [
    "from typing import Callable\n",
    "\n",
    "oo: float = float('inf')\n",
    "\n",
    "def descending(pair: tuple[order, order]) -> tuple[order, order]:\n",
    "    \"\"\"\n",
    "    Return a tuple in which the two orders in the supplied tuple are\n",
    "    arranged in descending order by price, except that any order with\n",
    "    a quantity of zero appears earlier.\n",
    "    \"\"\"\n",
    "    (x, y) = pair\n",
    "\n",
    "    if x.quantity == 0:\n",
    "        return (x, y)\n",
    "\n",
    "    if y.quantity == 0:\n",
    "        return (y, x)\n",
    "    \n",
    "    return (x, y) if y <= x else (y, x)\n",
    "\n",
    "def ascending(pair: tuple[order, order]) -> tuple[order, order]:\n",
    "    \"\"\"\n",
    "    Return a tuple in which the two orders in the supplied tuple are\n",
    "    arranged in ascending order by price, except that any order with\n",
    "    a quantity of zero appears earlier.\n",
    "    \"\"\"\n",
    "    (x, y) = pair\n",
    "\n",
    "    if x.quantity == 0:\n",
    "        return (x, y)\n",
    "\n",
    "    if y.quantity == 0:\n",
    "        return (y, x)\n",
    "\n",
    "    return (x, y) if y >= x else (y, x)"
   ]
  },
  {
   "cell_type": "markdown",
   "metadata": {
    "slideshow": {
     "slide_type": "slide"
    }
   },
   "source": [
    "In order to implement an encrypted order book, it must be possible to evaluate the ``matched`` and ``updated`` functions defined below on pairs of encrypted orders. These are used by the [**order book implementation**](#order-book-implementation) to determine whether a match has occurred, and to update the order book's arrays in a way that reflects the effects of an executed match."
   ]
  },
  {
   "cell_type": "code",
   "execution_count": 7,
   "metadata": {},
   "outputs": [],
   "source": [
    "from typing import Optional\n",
    "\n",
    "def matched(ask_bid: tuple[order, order]) -> Optional[tuple[int, int]]:\n",
    "    \"\"\"\n",
    "    Return a tuple indicating the price and quantity of a transaction\n",
    "    (if one is possible) or ``None`` (if one is not possible).\n",
    "    \"\"\"\n",
    "    (ask, bid) = ask_bid\n",
    "    quantity = min(ask.quantity, bid.quantity)\n",
    "    return (\n",
    "        None\n",
    "        if ask.price > bid.price or quantity == 0 else\n",
    "        (ask.price, quantity)\n",
    "    )\n",
    "\n",
    "def updated(ask_bid: tuple[order, order]) -> tuple[order, order]:\n",
    "    \"\"\"\n",
    "    Return a tuple that either (1) is identical to the input tuple because\n",
    "    there is no match or (2) updated to reflect the transaction.\n",
    "    \"\"\"\n",
    "    (ask, bid) = ask_bid\n",
    "\n",
    "    if ask.price > bid.price:\n",
    "        return ask_bid\n",
    "\n",
    "    quantity = min(ask.quantity, bid.quantity)\n",
    "    ask = order(ask.price, ask.quantity - quantity)\n",
    "    bid = order(bid.price, bid.quantity - quantity)\n",
    "    return (ask, bid)"
   ]
  },
  {
   "cell_type": "markdown",
   "metadata": {
    "slideshow": {
     "slide_type": "slide"
    }
   },
   "source": [
    "### Sorted Array Data Structure<a id=\"sorted-array-data-structure\"></a>"
   ]
  },
  {
   "cell_type": "markdown",
   "metadata": {
    "slideshow": {
     "slide_type": "slide"
    }
   },
   "source": [
    "A sorted array maintains orders in either an ascending or a descending arrangement according to a specific sorting function (that operates on one pair of orders at a time)."
   ]
  },
  {
   "cell_type": "code",
   "execution_count": 8,
   "metadata": {},
   "outputs": [],
   "source": [
    "from typing import Callable\n",
    "\n",
    "class array(list):\n",
    "    \"\"\"\n",
    "    Arrays of orders (usually maintained in ascending or descending order).\n",
    "    \"\"\"\n",
    "    def arrange(\n",
    "            self: array,\n",
    "            function: Callable[[tuple[order, order]], tuple[order, order]]\n",
    "        ):\n",
    "        \"\"\"\n",
    "        Arrange this instance such that every pair is sorted\n",
    "        according to the supplied function.\n",
    "        \"\"\"\n",
    "        for i in range(len(self) - 1):\n",
    "            pair = (self[i], self[i + 1])\n",
    "            (x, y) = function(pair)\n",
    "            self[i] = x\n",
    "            self[i + 1] = y\n",
    "\n",
    "    def add(\n",
    "            self: array,\n",
    "            entry: order,\n",
    "            function: Callable[[tuple[order, order]], tuple[order, order]]\n",
    "        ):\n",
    "        \"\"\"\n",
    "        Add a new entry and arrange the array.\n",
    "        \"\"\"\n",
    "        self[0] = entry\n",
    "        self.arrange(function)"
   ]
  },
  {
   "cell_type": "markdown",
   "metadata": {
    "slideshow": {
     "slide_type": "slide"
    }
   },
   "source": [
    "The example below tests the ``array`` data structure."
   ]
  },
  {
   "cell_type": "code",
   "execution_count": 10,
   "metadata": {},
   "outputs": [
    {
     "name": "stdout",
     "output_type": "stream",
     "text": [
      "[order(7, 1), order(6, 1), order(5, 1)] [order(1, 1), order(3, 1), order(4, 1)]\n"
     ]
    }
   ],
   "source": [
    "from random import randint\n",
    "\n",
    "oo: float = float('inf')\n",
    "\n",
    "length = 3\n",
    "rs = [order(randint(1, 6), 1) for _ in range(length)]\n",
    "bids = array([order(0, 0) for _ in range(length)])\n",
    "for r in rs:\n",
    "    bids.add(r, ascending)\n",
    "\n",
    "rs = [order(randint(4, 9), 1) for _ in range(length)]\n",
    "asks = array([order(oo, 0) for _ in range(length)])\n",
    "for r in rs:\n",
    "    asks.add(r, descending)\n",
    "\n",
    "print(asks, bids)"
   ]
  },
  {
   "cell_type": "markdown",
   "metadata": {
    "slideshow": {
     "slide_type": "slide"
    }
   },
   "source": [
    "## Order Book Implementation<a id='order-book-implementation'></a>"
   ]
  },
  {
   "cell_type": "markdown",
   "metadata": {
    "slideshow": {
     "slide_type": "slide"
    }
   },
   "source": [
    "The order book implementation maintains two sorted arrays (one for asks and one for bids). When a new order is added, the below steps are executed.\n",
    "1. The order is added to the appropriate array and the array is arranged.\n",
    "2. The last entries from the two arrays are processed using the matching functions.\n",
    "3. If a match occurred, the arrays are arranged again and execution returns to step (2) above (in case there are new matches given the rearranged arrays). "
   ]
  },
  {
   "cell_type": "code",
   "execution_count": 11,
   "metadata": {},
   "outputs": [],
   "source": [
    "from typing import Optional\n",
    "\n",
    "class book:\n",
    "    \"\"\"\n",
    "    An order book that allows the submission of bid and ask orders,\n",
    "    as well as matching of orders.\n",
    "    \"\"\"\n",
    "    def __init__(self: book, size: int):\n",
    "        \"\"\"\n",
    "        Initialize an order book of the specified size. No more\n",
    "        bid orders can be submitted after ``size`` bid orders have\n",
    "        been submitted (and likewise for ask orders).\n",
    "        \"\"\"\n",
    "        self.asks = array([order(oo, 0) for _ in range(size)])\n",
    "        self.bids = array([order(0, 0) for _ in range(size)])\n",
    "\n",
    "    def ask(self: book, order: order):\n",
    "        \"\"\"\n",
    "        Add an ask order (and sort the array of asks).\n",
    "        \"\"\"\n",
    "        self.asks.add(order, descending)\n",
    "\n",
    "    def bid(self: book, order: order):\n",
    "        \"\"\"\n",
    "        Add a bid order (and sort the array of bids).\n",
    "        \"\"\"\n",
    "        self.bids.add(order, ascending)\n",
    "\n",
    "    def match(self: book) -> Optional[tuple[int, int]]:\n",
    "        \"\"\"\n",
    "        Update the last entries of the ask and bid arrays using\n",
    "        the matching function. Then, sort both arrays to move any\n",
    "        exhausted orders to earlier positions.\n",
    "        \"\"\"\n",
    "        ask = self.asks[-1]\n",
    "        bid = self.bids[-1]\n",
    "        outcome = matched((ask, bid))\n",
    "        \n",
    "        if outcome is not None:\n",
    "            (ask, bid) = updated((ask, bid))\n",
    "            self.asks[-1] = ask\n",
    "            self.bids[-1] = bid\n",
    "            self.asks.arrange(descending)\n",
    "            self.bids.arrange(ascending)\n",
    "            \n",
    "        return outcome"
   ]
  },
  {
   "cell_type": "markdown",
   "metadata": {
    "slideshow": {
     "slide_type": "slide"
    }
   },
   "source": [
    "The example below tests the ``book`` data structure on a sequence of orders."
   ]
  },
  {
   "cell_type": "code",
   "execution_count": 13,
   "metadata": {},
   "outputs": [
    {
     "name": "stdout",
     "output_type": "stream",
     "text": [
      "bid order(300, 2)\n",
      "None\n",
      "\n",
      "bid order(200, 8)\n",
      "None\n",
      "\n",
      "ask order(800, 7)\n",
      "None\n",
      "\n",
      "ask order(200, 8)\n",
      "(200, 2)\n",
      "(200, 6)\n",
      "None\n",
      "\n",
      "ask order(700, 7)\n",
      "None\n",
      "\n",
      "ask order(800, 5)\n",
      "None\n",
      "\n",
      "ask order(200, 6)\n",
      "(200, 2)\n",
      "None\n",
      "\n"
     ]
    }
   ],
   "source": [
    "from random import randint, choice, seed\n",
    "\n",
    "seed(1)\n",
    "b = book(6)\n",
    "orders = [\n",
    "    (\n",
    "        order(randint(1, 9) * 100, randint(1, 9)),\n",
    "        choice(['ask', 'bid'])\n",
    "    )\n",
    "    for _ in range(7)\n",
    "]\n",
    "for (o, ask_or_bid) in orders:\n",
    "    print(ask_or_bid, o)\n",
    "    getattr(b, ask_or_bid)(o)\n",
    "    transaction = ()\n",
    "    while transaction is not None:\n",
    "        transaction = b.match()\n",
    "        print(transaction)\n",
    "    print()"
   ]
  },
  {
   "cell_type": "code",
   "execution_count": null,
   "metadata": {},
   "outputs": [],
   "source": [
    "# End of file."
   ]
  }
 ],
 "metadata": {
  "anaconda-cloud": {},
  "celltoolbar": "Slideshow",
  "kernelspec": {
   "display_name": "Python 3 (ipykernel)",
   "language": "python",
   "name": "python3"
  },
  "language_info": {
   "codemirror_mode": {
    "name": "ipython",
    "version": 3
   },
   "file_extension": ".py",
   "mimetype": "text/x-python",
   "name": "python",
   "nbconvert_exporter": "python",
   "pygments_lexer": "ipython3",
   "version": "3.11.3"
  }
 },
 "nbformat": 4,
 "nbformat_minor": 4
}
