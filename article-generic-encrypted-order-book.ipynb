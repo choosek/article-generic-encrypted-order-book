{
 "cells": [
  {
   "cell_type": "markdown",
   "metadata": {
    "slideshow": {
     "slide_type": "slide"
    }
   },
   "source": [
    "# Generic Template for a Basic Encrypted Order Book (via Sorted Arrays)"
   ]
  },
  {
   "cell_type": "markdown",
   "metadata": {
    "slideshow": {
     "slide_type": "slide"
    }
   },
   "source": [
    "An *encrypted order book* is an [order book](https://en.wikipedia.org/wiki/Order_book) in which orders are submitted in encrypted form and remain encrypted until they are (partially or fully) revealed as part of a transaction. This document presents a generic template for an encrypted order book that relies on maintaining sorted arrays of orders submitted by clients. An encrypted order book implementation can be built based on this template by providing implementations of the base functions (for example, using a secure multi-party computation or homomorphic encryption scheme) that can operate on encrypted data."
   ]
  },
  {
   "cell_type": "markdown",
   "metadata": {
    "slideshow": {
     "slide_type": "slide"
    }
   },
   "source": [
    "## Introduction"
   ]
  },
  {
   "cell_type": "markdown",
   "metadata": {
    "slideshow": {
     "slide_type": "slide"
    }
   },
   "source": [
    "The implementation template presented in this document relies on data structures and algorithms that are chosen based on their compatibility with secure computation schemes and protocols such as secure multi-party computation (MPC). When these data structures and algorithms are implemented using such schemes or protocols, the encrypted order book possesses certain privacy features. However, these features also introduce some costs and limitations.\n",
    "\n",
    "**Implementation Overview.** The implementation presented in this document is described briefly below. This description focuses on the functional (rather than cryptographic) parts of the implementation.\n",
    "\n",
    "1. The *operator* of the encrypted order book initializes and maintains two sorted arrays of a fixed size $k$ of orders: one for asks and one for bids. The initialized arrays are filled with *null* orders (*i.e.*, placeholder orders that do not match any other order).\n",
    "\n",
    "2. When an individual *client* submits an *order* (a proposed *transaction* specifying a price and quantity):\n",
    "\n",
    "    a. the order is added as the first entry in *both* arrays (overwriting the entries in those positions);\n",
    "\n",
    "    b. both arrays are sorted by swapping contiguous pairs of entries (from the bottom to the top) such that null orders are always demoted and orders with the highest (for bids) or lowest (for asks) price are promoted;\n",
    "\n",
    "    c. the top array entries (one from each array) are compared to determine if a *transaction* can be executed; and\n",
    "\n",
    "    d. the top array entries are updated and processing resumes at step (b) above (if a transaction was executed) or no further processing occurs.\n",
    "\n",
    "4. Once exactly $k$ orders have been submitted, the order book does not accept any further orders.\n",
    "\n",
    "**Privacy Features.** If individual orders are encrypted and the functions in the implementation that process orders are implemented using a compatible secure computation scheme, the encrypted order book ensures that (over the course of the order book's operation) the operator learns *only* (1) the number of orders submitted by each client and (2) the executed transactions (including their quantity and price). Notably, the operators *does not* learn any information about an order (*i.e.*, whether it is a bid or an ask, its price, or its quantity) if it does not contribute to a transaction, and also has no way to detect whether a transaction partially or fully fulfilled the orders on either side.\n",
    "\n",
    "**Limitations and Costs.** The most significant limitation of an implementation is that the number of orders $k$ that can be submitted must be fixed in advance and cannot be increased. The most significant computation costs (which may also include communication costs in the case of MPC protocols) are:\n",
    "\n",
    "1. $O(k)$ comparison and conditional operations must be performed after each submission of an order, and\n",
    "\n",
    "2. $O(k)$ *additional* comparison and conditional operations must be performed for *every* transaction that is detected and executed as a consequence of an order submission."
   ]
  },
  {
   "cell_type": "markdown",
   "metadata": {
    "slideshow": {
     "slide_type": "slide"
    }
   },
   "source": [
    "## Data Structures and Functions"
   ]
  },
  {
   "cell_type": "markdown",
   "metadata": {
    "slideshow": {
     "slide_type": "slide"
    }
   },
   "source": [
    "The data structures and functions below are reference implementations that represent and operate on data in the clear. In order to implement an encrypted order book, only the [core functions](#core-functions-on-orders) must be implemented in such a way that they can be applied to encrypted inputs. The [order book data structure and methods](#order-book-implementation) are themselves cryptography-agnostic (albeit peculiar in their implementation). They can inherit all of their cryptographic features from the core functions (if the core functions operate on encrypted values)."
   ]
  },
  {
   "cell_type": "markdown",
   "metadata": {
    "slideshow": {
     "slide_type": "slide"
    }
   },
   "source": [
    "### Transaction and Order Data Structures<a id='data-structures'></a>"
   ]
  },
  {
   "cell_type": "markdown",
   "metadata": {
    "slideshow": {
     "slide_type": "slide"
    }
   },
   "source": [
    "A *transaction* consists of an integer price and an integer quantity. An *order* is a proposed transaction submitted by an individual client. An order may be an *ask* or a *bid* order, and this is encoded in its ``category`` attribute (where ``-1`` indicates it is an ask order and ``1`` indicates it is a bid order). The client identity and the commodity/security associated with an order or transaction is assumed to be tracked in some manner that falls outside the scope of the implementation template presented in this article."
   ]
  },
  {
   "cell_type": "code",
   "execution_count": 1,
   "metadata": {},
   "outputs": [],
   "source": [
    "from __future__ import annotations\n",
    "\n",
    "class transaction:\n",
    "    \"\"\"\n",
    "    Data structure for individual transactions (consisting of an integer\n",
    "    price and an integer quantity).\n",
    "    \"\"\"\n",
    "    def __init__(self, price: int, quantity: int):\n",
    "        self.price: int = price\n",
    "        self.quantity: int = quantity\n",
    "\n",
    "    def __repr__(self: order) -> str:\n",
    "        \"\"\"\n",
    "        Return a human-readable and ``eval``-friendly representation.\n",
    "        \"\"\"\n",
    "        return 'transaction' + str((self.price, self.quantity))\n",
    "\n",
    "class order:\n",
    "    \"\"\"\n",
    "    Data structure for an order (*i.e.*, a proposed transaction).\n",
    "    \"\"\"\n",
    "    def __init__(self, price: int, quantity: int, category: int):\n",
    "        self.price: int = price\n",
    "        self.quantity: int = quantity\n",
    "        self.category: int = category # ``-1`` for asks, ``1`` for bids.\n",
    "    \n",
    "    def __repr__(self: order) -> str:\n",
    "        \"\"\"\n",
    "        Return a human-readable and ``eval``-friendly representation.\n",
    "        \"\"\"\n",
    "        return 'order' + str((self.price, self.quantity, self.category))"
   ]
  },
  {
   "cell_type": "markdown",
   "metadata": {
    "slideshow": {
     "slide_type": "slide"
    }
   },
   "source": [
    "### Primitive Operations for Simple Types<a id='primitive-operations-for-simple-types'></a>"
   ]
  },
  {
   "cell_type": "markdown",
   "metadata": {
    "slideshow": {
     "slide_type": "slide"
    }
   },
   "source": [
    "To implement an encrypted order book, every [core function](#core-functions-on-orders) must be implemented using a secure computation scheme. The base functions can be implemented either (1) via composition of primitive operations that can be applied to encrypted integer and boolean values or (2) as high-level, black-box functions (*e.g.*, custom-built MPC protocols) that be applied to encrypted orders. To accommodate scenario (1), this section provides a comprehensive collection of primitive operations (in the form of reference implementations that operate on plaintext integer and boolean values). For completeness, these reference implementations are also used within the reference implementations of the [core functions](#core-functions-on-orders) (both directly and via [primitive operations for non-simple types](#primitive-operations-for-non-simple-types))."
   ]
  },
  {
   "cell_type": "code",
   "execution_count": 2,
   "metadata": {},
   "outputs": [],
   "source": [
    "def or_(a: bool, b: bool) -> bool:\n",
    "    \"\"\"\n",
    "    Returns the disjunction of the two boolean arguments.\n",
    "    \"\"\"\n",
    "    return a or b\n",
    "\n",
    "def if_then_else(c: bool, n: int, m: int) -> int:\n",
    "    \"\"\"\n",
    "    Ternary operator that returns the second argument if the first is true,\n",
    "    and otherwise returns the third argument.\n",
    "    \"\"\"\n",
    "    return n if c else m\n",
    "\n",
    "def equal_to_zero(n: int) -> bool:\n",
    "    \"\"\"\n",
    "    Returns a boolean that represents whether the argument is equal to zero.\n",
    "    \"\"\"\n",
    "    return n == 0\n",
    "\n",
    "def less_than(n: int, m: int) -> bool:\n",
    "    \"\"\"\n",
    "    Returns a boolean value that represents whether the first argument is\n",
    "    strictly less than the second argument. \n",
    "    \"\"\"\n",
    "    return n < m\n",
    "\n",
    "def plus(n: int, m: int) -> int:\n",
    "    \"\"\"\n",
    "    Return the integer result of adding the second argument\n",
    "    from the first argument.\n",
    "    \"\"\"\n",
    "    return n + m\n",
    "\n",
    "def minus(n: int, m: int) -> int:\n",
    "    \"\"\"\n",
    "    Return the integer result of subtracting the second argument\n",
    "    from the first argument.\n",
    "    \"\"\"\n",
    "    return n - m"
   ]
  },
  {
   "cell_type": "markdown",
   "metadata": {
    "slideshow": {
     "slide_type": "slide"
    }
   },
   "source": [
    "The two primitive operations below can be defined in terms of the operations above (although this is not required if more specialized alternative implementations are available and preferred)."
   ]
  },
  {
   "cell_type": "code",
   "execution_count": 3,
   "metadata": {},
   "outputs": [],
   "source": [
    "def minimum(n: int, m: int) -> int:\n",
    "    \"\"\"\n",
    "    Return the smaller of the two arguments.\n",
    "    \"\"\"\n",
    "    return if_then_else(less_than(n, m), n, m)\n",
    "\n",
    "def maximum(n: int, m: int) -> int:\n",
    "    \"\"\"\n",
    "    Return the larger of the two arguments.\n",
    "    \"\"\"\n",
    "    return if_then_else(less_than(n, m), m, n)"
   ]
  },
  {
   "cell_type": "markdown",
   "metadata": {
    "slideshow": {
     "slide_type": "slide"
    }
   },
   "source": [
    "The primitive operations below are used in this implementation template to signify when a value must be decrypted."
   ]
  },
  {
   "cell_type": "code",
   "execution_count": 4,
   "metadata": {},
   "outputs": [],
   "source": [
    "from typing import Union\n",
    "\n",
    "def decrypt_bool(b: bool) -> bool:\n",
    "    \"\"\"\n",
    "    Decrypt the encrypted boolean value.\n",
    "    \"\"\"\n",
    "    return b\n",
    "\n",
    "def decrypt_int(n: int) -> int:\n",
    "    \"\"\"\n",
    "    Decrypt the encrypted integer.\n",
    "    \"\"\"\n",
    "    return n"
   ]
  },
  {
   "cell_type": "markdown",
   "metadata": {
    "slideshow": {
     "slide_type": "slide"
    }
   },
   "source": [
    "### Primitive Operations for Non-Simple Types<a id='primitive-operations-for-non-simple-types'></a>"
   ]
  },
  {
   "cell_type": "markdown",
   "metadata": {
    "slideshow": {
     "slide_type": "slide"
    }
   },
   "source": [
    "It is natural to define variants of [primitive operations defined on simple types](#primitive-operations-for-simple-types) for more complex types (such as tuples) and/or to user-defined types (such as [transactions and orders](#data-structures)). The primitive operations below are defined for instances of the [order data structure](#data-structures) and pairs thereof (using only [primitive operations defined on simple types](#primitive-operations-for-simple-types))."
   ]
  },
  {
   "cell_type": "code",
   "execution_count": 5,
   "metadata": {},
   "outputs": [],
   "source": [
    "def if_then_else_order(c: bool, s: order, t: order) -> order:\n",
    "    \"\"\"\n",
    "    Ternary operator that returns the second argument if the first is true,\n",
    "    and otherwise returns the third argument.\n",
    "    \"\"\"\n",
    "    price = if_then_else(c, s.price, t.price)\n",
    "    quantity = if_then_else(c, s.quantity, t.quantity)\n",
    "    category = if_then_else(c, s.category, t.category)\n",
    "    return order(price, quantity, category)\n",
    "\n",
    "def minimum_order(s: order, t: order) -> order:\n",
    "    \"\"\"\n",
    "    Return the order with the lower price.\n",
    "    \"\"\"\n",
    "    condition = less_than(s.price, t.price)\n",
    "    price = if_then_else(condition, s.price, t.price)\n",
    "    quantity = if_then_else(condition, s.quantity, t.quantity)\n",
    "    category = if_then_else(condition, s.category, t.category)\n",
    "    return order(price, quantity, category)\n",
    "\n",
    "def maximum_order(s: order, t: order) -> order:\n",
    "    \"\"\"\n",
    "    Return the order with the higher price.\n",
    "    \"\"\"\n",
    "    condition = less_than(s.price, t.price)\n",
    "    price = if_then_else(condition, t.price, s.price)\n",
    "    quantity = if_then_else(condition, t.quantity, s.quantity)\n",
    "    category = if_then_else(condition, t.category, s.category)\n",
    "    return order(price, quantity, category)\n",
    "\n",
    "def if_then_else_pair(\n",
    "        c: bool,\n",
    "        p: tuple[order, order],\n",
    "        q: tuple[order, order]\n",
    "    ) -> tuple[order, order]:\n",
    "    \"\"\"\n",
    "    Ternary operator that returns the second argument if the first is true,\n",
    "    and otherwise returns the third argument.\n",
    "    \"\"\"\n",
    "    return (\n",
    "        if_then_else(c, p[0], q[0]),\n",
    "        if_then_else(c, p[1], q[1])\n",
    "    )"
   ]
  },
  {
   "cell_type": "markdown",
   "metadata": {
    "slideshow": {
     "slide_type": "slide"
    }
   },
   "source": [
    "If a language and compiler offer a more rich collection of features, polymorphic primitive operations corresponding to those above (that can be applied to tuples or user-defined record types) might be made available. Below is an example of a polymorphic ternary operator that can be used with any two iterable objects."
   ]
  },
  {
   "cell_type": "code",
   "execution_count": 6,
   "metadata": {},
   "outputs": [],
   "source": [
    "from typing import Iterable\n",
    "\n",
    "def if_then_else_iterable(c: bool, xs: Iterable, ys: Iterable) -> Iterable:\n",
    "    \"\"\"\n",
    "    Ternary operator that returns the second argument if the first is true,\n",
    "    and otherwise returns the third argument.\n",
    "    \"\"\"\n",
    "    return (if_then_else(c, x, y) for (x, y) in zip(xs, ys))"
   ]
  },
  {
   "cell_type": "markdown",
   "metadata": {
    "slideshow": {
     "slide_type": "slide"
    }
   },
   "source": [
    "### Core Functions on Transactions<a id='core-functions-on-transactions'></a>"
   ]
  },
  {
   "cell_type": "markdown",
   "metadata": {
    "slideshow": {
     "slide_type": "slide"
    }
   },
   "source": [
    "To implement an encrypted order book, every function in this section must be implemented using a secure computation scheme (such that the function can be applied to pairs of encrypted transactions). This can either be accomplished by (1) leveraging primitive operations on [simple](#primitive-operations-for-simple-types) and [non-simple](#primitive-operations-for-non-simple-types) types that can be applied to encrypted values or (2) implementing the functions directly as black boxes using some other approach."
   ]
  },
  {
   "cell_type": "markdown",
   "metadata": {
    "slideshow": {
     "slide_type": "slide"
    }
   },
   "source": [
    "Recall that an *order* is a proposed transaction submitted by a client. Orders are sorted according to price, except that orders that have a ``quantity`` and/or ``category`` of ``0`` always appear earlier (regardless of what their price attribute may be). The latter requirement ensures that placeholder orders, fully executed orders, and orders that belong to the wrong category (for that specific array) can never lead to a transaction."
   ]
  },
  {
   "cell_type": "markdown",
   "metadata": {
    "slideshow": {
     "slide_type": "slide"
    }
   },
   "source": [
    "In order to implement an encrypted order book, it must be possible to evaluate the ``ascending`` and ``descending`` functions presented below on pairs of encrypted orders. These functions perform a conditional swap of an input pair of orders; they are used to maintain [encrypted sorted arrays](#sorted-array-data-structure) of orders."
   ]
  },
  {
   "cell_type": "code",
   "execution_count": 7,
   "metadata": {},
   "outputs": [],
   "source": [
    "from typing import Callable\n",
    "\n",
    "def descending(pair: tuple[order, order]) -> tuple[order, order]:\n",
    "    \"\"\"\n",
    "    Return a tuple in which the two orders in the supplied tuple are arranged\n",
    "    in descending order by price, except that any order with a ``quantity`` of\n",
    "    ``0`` or a category that is not ``0`` appears earlier. Effectively, the\n",
    "    below algorithm is implemented using primitive operations:\n",
    "\n",
    "        (s, t) = pair\n",
    "        if s.quantity == 0 or s.category == 0:\n",
    "            return (s, t)\n",
    "        if t.quantity == 0 or t.category == 0:\n",
    "            return (t, s)\n",
    "        return (maximum_order(s, t), minimum_order(s, t))\n",
    "    \"\"\"\n",
    "    (s, t) = pair\n",
    "    return if_then_else_pair(\n",
    "        or_(equal_to_zero(t.quantity), equal_to_zero(t.category)),\n",
    "        (t, s),\n",
    "        if_then_else_pair(\n",
    "            or_(equal_to_zero(s.quantity), equal_to_zero(s.category)),\n",
    "            (s, t),\n",
    "            (maximum_order(s, t), minimum_order(s, t))\n",
    "        )\n",
    "    )\n",
    "\n",
    "def ascending(pair: tuple[order, order]) -> tuple[order, order]:\n",
    "    \"\"\"\n",
    "    Return a tuple in which the two orders in the supplied tuple are arranged\n",
    "    in ascending order by price, except that any order with a quantity of zero\n",
    "    appears earlier.\n",
    "    \"\"\"\n",
    "    (s, t) = pair\n",
    "    return if_then_else_pair(\n",
    "        or_(equal_to_zero(t.quantity), equal_to_zero(t.category)),\n",
    "        (t, s),\n",
    "        if_then_else_pair(\n",
    "            or_(equal_to_zero(s.quantity), equal_to_zero(s.category)),\n",
    "            (s, t),\n",
    "            (minimum_order(s, t), maximum_order(s, t))\n",
    "        )\n",
    "    )"
   ]
  },
  {
   "cell_type": "markdown",
   "metadata": {
    "slideshow": {
     "slide_type": "slide"
    }
   },
   "source": [
    "In order to implement an encrypted order book, it must be possible to evaluate the ``match`` and ``update`` functions defined below on pairs of encrypted orders. These are used by the [order book implementation](#order-book-implementation) to determine whether two orders can lead to an executed transaction, and to update the top entries in the order book's two sorted arrays in a way that reflects the effects of that executed transaction."
   ]
  },
  {
   "cell_type": "code",
   "execution_count": 8,
   "metadata": {},
   "outputs": [],
   "source": [
    "from typing import Optional\n",
    "\n",
    "def match(ask_bid: tuple[order, order]) -> Optional[transaction]:\n",
    "    \"\"\"\n",
    "    Return a transaction that can be executed (if that is possible) or ``None``\n",
    "    (if that is not possible). Note that a transaction does not necessarily\n",
    "    exhaust both orders.\n",
    "    \"\"\"\n",
    "    (ask, bid) = ask_bid\n",
    "\n",
    "    # If a transaction is possible, the price and quantity of that\n",
    "    # transaction would be defined as below. Note that the below code\n",
    "    # must be executed every time within a secure computation scheme\n",
    "    # or protocol (as the value of ``no_match`` depends on it).\n",
    "    # Such a flexibility may or may not be availabe (depending on the\n",
    "    # specific use case on the security/privacy features that must be\n",
    "    # supported).\n",
    "    price = ask.price\n",
    "    quantity = minimum(ask.quantity, bid.quantity)\n",
    "\n",
    "    # Compute an encrypted boolean value that indicates whether a\n",
    "    # transaction is possible.\n",
    "    no_match = or_(\n",
    "        less_than(bid.price, ask.price),\n",
    "        or_(\n",
    "            equal_to_zero(quantity),\n",
    "            or_(\n",
    "              equal_to_zero(ask.category),\n",
    "              equal_to_zero(bid.category)\n",
    "            )\n",
    "        )\n",
    "    )\n",
    "\n",
    "    # The value of ``no_match`` is decrypted. If it is ``False``,\n",
    "    # then the ``price`` and ``quantity`` values are decrypted.\n",
    "    # The below statement may require specialized language or secure\n",
    "    # computation framework features that allow programmers to\n",
    "    # conditionally decrypt.\n",
    "    return (\n",
    "        None\n",
    "        if decrypt_bool(no_match) else # This is an unconditional decryption.\n",
    "        transaction(\n",
    "            decrypt_int(price), # This is a conditional decryption.\n",
    "            decrypt_int(quantity) # This is a conditional decryption.\n",
    "        )\n",
    "    )\n",
    "\n",
    "def update(ask_bid: tuple[order, order]) -> tuple[order, order]:\n",
    "    \"\"\"\n",
    "    Return a pair that either (1) is identical to the input pair because\n",
    "    no transaction is possible or (2) is updated to reflect that the\n",
    "    transaction that is possible has been executed.\n",
    "\n",
    "    Note that because the ``match`` method is the only way that the\n",
    "    order book can observe anything about the array data, this method\n",
    "    does not need to perform additional checks. If a transaction is not\n",
    "    possible because the ask or bid (or both) have a ``quantity`` that is\n",
    "    ``0`` or a ``category`` that is not ``0``, the updates performed in\n",
    "    this function can never affect a decrypted output.\n",
    "    \"\"\"\n",
    "    (ask, bid) = ask_bid\n",
    "    quantity = minimum(ask.quantity, bid.quantity)\n",
    "    return if_then_else_pair(\n",
    "        less_than(bid.price, ask.price),\n",
    "        ask_bid, # No change.\n",
    "        ( # Return orders that reflect an executed transaction.\n",
    "            order(ask.price, minus(ask.quantity, quantity), ask.category),\n",
    "            order(bid.price, minus(bid.quantity, quantity), bid.category)\n",
    "        )\n",
    "    )"
   ]
  },
  {
   "cell_type": "markdown",
   "metadata": {
    "slideshow": {
     "slide_type": "slide"
    }
   },
   "source": [
    "### Sorted Array Data Structure<a id=\"sorted-array-data-structure\"></a>"
   ]
  },
  {
   "cell_type": "markdown",
   "metadata": {
    "slideshow": {
     "slide_type": "slide"
    }
   },
   "source": [
    "A sorted array maintains orders in either an ascending or a descending arrangement according to a specific conditional swap function (that operates on one pair of orders at a time)."
   ]
  },
  {
   "cell_type": "code",
   "execution_count": 9,
   "metadata": {},
   "outputs": [],
   "source": [
    "from typing import Callable\n",
    "\n",
    "class array(list):\n",
    "    \"\"\"\n",
    "    Arrays of orders (maintained in ascending or descending order).\n",
    "    \"\"\"\n",
    "    def arrange(\n",
    "            self: array,\n",
    "            conditional_swap: Callable[[tuple[order, order]], tuple[order, order]]\n",
    "        ):\n",
    "        \"\"\"\n",
    "        Sort this instance such that every pair is ordered according to the\n",
    "        supplied conditional swap function.\n",
    "        \"\"\"\n",
    "        for i in range(len(self) - 1):\n",
    "            pair = (self[i], self[i + 1])\n",
    "            (x, y) = conditional_swap(pair)\n",
    "            self[i] = x\n",
    "            self[i + 1] = y\n",
    "\n",
    "    def inject(\n",
    "            self: array,\n",
    "            order: transaction,\n",
    "            conditional_swap: Callable[[tuple[order, order]], tuple[order, order]]\n",
    "        ):\n",
    "        \"\"\"\n",
    "        Add a new entry and sort the array.\n",
    "        \"\"\"\n",
    "        self[0] = order\n",
    "        self.arrange(conditional_swap)"
   ]
  },
  {
   "cell_type": "markdown",
   "metadata": {
    "slideshow": {
     "slide_type": "slide"
    }
   },
   "source": [
    "The example below tests the ``array`` data structure. Note that orders with a ``quantity`` of ``0`` always appear earlier in an ``array`` instance (while all other entries are sorted according to the supplied conditional swap function)."
   ]
  },
  {
   "cell_type": "code",
   "execution_count": 10,
   "metadata": {},
   "outputs": [
    {
     "name": "stdout",
     "output_type": "stream",
     "text": [
      "[order(4, 1, 0), order(4, 1, 0), order(6, 0, 0), order(4, 1, 0), order(8, 1, 0), order(6, 0, 0)]\n",
      "[order(2, 0, 0), order(3, 1, 0), order(6, 0, 0), order(2, 0, 0), order(4, 0, 0), order(5, 1, 0)]\n"
     ]
    }
   ],
   "source": [
    "from random import randint, seed\n",
    "\n",
    "oo: float = float('inf') # To fill array with initial null ask orders.\n",
    "seed(-123)\n",
    "length = 6\n",
    "\n",
    "orders = [order(randint(4, 9), randint(0, 1), 0) for _ in range(length)]\n",
    "asks = array([order(oo, 0, 1) for _ in range(length)])\n",
    "for o in orders:\n",
    "    asks.inject(o, descending)\n",
    "\n",
    "orders = [order(randint(1, 6), randint(0, 1), 0) for _ in range(length)]\n",
    "bids = array([order(0, 0, 1) for _ in range(length)])\n",
    "for o in orders:\n",
    "    bids.inject(o, ascending)\n",
    "\n",
    "print(asks)\n",
    "print(bids)"
   ]
  },
  {
   "cell_type": "markdown",
   "metadata": {
    "slideshow": {
     "slide_type": "slide"
    }
   },
   "source": [
    "## Order Book Implementation<a id='order-book-implementation'></a>"
   ]
  },
  {
   "cell_type": "markdown",
   "metadata": {
    "slideshow": {
     "slide_type": "slide"
    }
   },
   "source": [
    "The order book implementation maintains two sorted arrays (one for asks and one for bids). When a new order is added, the below steps are performed.\n",
    "\n",
    "1. The order is injected into both arrays (adding ``1`` to the ``category`` attribute before injecting into the array of asks, and adding ``-1`` to the ``category`` attribute before injecting into the array of bids).\n",
    "\n",
    "2. The top entries (*i.e.*, last entries at index ``-1``) in the two arrays are processed using the ``match`` and ``update`` functions.\n",
    "\n",
    "3. If a transaction is possible, the arrays are arranged again and control is returned to step (2) above (in case there are new transactions possible given the rearranged arrays).\n",
    "\n",
    "The ``clear`` method implements the above steps and returns a list of *transactions*. A *transaction* consists of an execution price (*i.e.*, the asking price in a matching bid-ask pair of orders) and the quantity involved (*i.e.*, the minimum of the ask order quantity and the bid order quantity). "
   ]
  },
  {
   "cell_type": "code",
   "execution_count": 11,
   "metadata": {},
   "outputs": [],
   "source": [
    "from typing import Optional\n",
    "\n",
    "class book:\n",
    "    \"\"\"\n",
    "    An order book that allows the submission of bid and ask orders,\n",
    "    as well as the matching of orders in order to identify transactions.\n",
    "    \"\"\"\n",
    "    def __init__(self: book, size: int):\n",
    "        \"\"\"\n",
    "        Initialize an order book of the specified size. No more\n",
    "        bid orders can be submitted after ``size`` bid orders have\n",
    "        been submitted (and likewise for ask orders).\n",
    "        \"\"\"\n",
    "        self.asks = array([order(oo, 0, 0) for _ in range(size)])\n",
    "        self.bids = array([order(0, 0, 0) for _ in range(size)])\n",
    "\n",
    "    def order(self: book, order: order):\n",
    "        \"\"\"\n",
    "        Accept and store a submitted order (and sort the arrays).\n",
    "        \"\"\"\n",
    "        # If a bid order is submitted, then adding ``-1`` to its ``category``\n",
    "        # attribute ensures that its ``category`` attribute is ``0`` (and,\n",
    "        # thus, that it will be sorted below other orders).\n",
    "        ask = type(order)(order.price, order.quantity, plus(order.category, -1))\n",
    "        self.asks.inject(ask, descending)\n",
    "\n",
    "        # If an ask order is submitted, then adding ``1`` to its ``category``\n",
    "        # attribute ensures that its ``category`` attribute is ``0`` (and,\n",
    "        # thus, that it will be sorted below other orders).\n",
    "        bid = type(order)(order.price, order.quantity, plus(order.category, 1))\n",
    "        self.bids.inject(bid, ascending)\n",
    "\n",
    "    def match(self: book) -> Optional[order]:\n",
    "        \"\"\"\n",
    "        Update the last entries of the ask and bid arrays using\n",
    "        the matching function. Then, sort both arrays to move any\n",
    "        fully exhausted orders below non-exhausted orders.\n",
    "        \"\"\"\n",
    "        ask = self.asks[-1]\n",
    "        bid = self.bids[-1]\n",
    "        transaction = match((ask, bid))\n",
    "\n",
    "        if transaction is not None:\n",
    "            (ask, bid) = update((ask, bid))\n",
    "            self.asks[-1] = ask\n",
    "            self.bids[-1] = bid\n",
    "            self.asks.arrange(descending)\n",
    "            self.bids.arrange(ascending)\n",
    "\n",
    "        return transaction\n",
    "\n",
    "    def clear(self: book) -> list[order]:\n",
    "        \"\"\"\n",
    "        Obtain transactions until no more are possible, and return a\n",
    "        list containing all the transactions (in the order they were\n",
    "        obtained).\n",
    "        \"\"\"\n",
    "        transactions = []\n",
    "        while True:\n",
    "            transaction = self.match()\n",
    "            if transaction is None:\n",
    "                break\n",
    "            transactions.append(transaction)\n",
    "\n",
    "        return transactions"
   ]
  },
  {
   "cell_type": "markdown",
   "metadata": {
    "slideshow": {
     "slide_type": "slide"
    }
   },
   "source": [
    "## Logs and Simulations"
   ]
  },
  {
   "cell_type": "markdown",
   "metadata": {
    "slideshow": {
     "slide_type": "slide"
    }
   },
   "source": [
    "In this section, a *log* is defined to be an ordered sequence of orders and transactions. An *order log* is a log that contains only ask and bid orders (*e.g.*, that might be submitted over time by participants in an exchange). The function below generates a random order log of a specified length."
   ]
  },
  {
   "cell_type": "code",
   "execution_count": 12,
   "metadata": {},
   "outputs": [],
   "source": [
    "from random import randint, choice, seed\n",
    "\n",
    "def random_order_log(seed_value: int, length: int) -> list[order]:\n",
    "    \"\"\"\n",
    "    Generate a random order log of the specified length using the\n",
    "    supplied seed value.\n",
    "    \"\"\"\n",
    "    seed(seed_value)\n",
    "    return [\n",
    "        order(randint(1, 9) * 100, randint(1, 9), choice([-1, 1]))\n",
    "        for _ in range(length)\n",
    "    ]"
   ]
  },
  {
   "cell_type": "markdown",
   "metadata": {
    "slideshow": {
     "slide_type": "slide"
    }
   },
   "source": [
    "An *simulated log* is a log that contains ask and bid orders interspersed with transactions (where each transaction appears as early as possible and has the maximum quantity possible). A *simulation* is a function from an order log to a simulated log."
   ]
  },
  {
   "cell_type": "code",
   "execution_count": 13,
   "metadata": {},
   "outputs": [],
   "source": [
    "from random import randint, choice, seed\n",
    "\n",
    "def simulation(order_log: list[order]) -> list[Union[order, transaction]]:\n",
    "    \"\"\"\n",
    "    Return the simulated log corresponding to the supplied order log.\n",
    "    \"\"\"\n",
    "    b = book(len(order_log)) # Every order is added to both arrays.\n",
    "\n",
    "    simulated_log = []\n",
    "    for o in order_log:\n",
    "        simulated_log.append(o)\n",
    "        b.order(o)\n",
    "        for transaction in b.clear():\n",
    "            simulated_log.append(transaction)\n",
    "\n",
    "    return simulated_log"
   ]
  },
  {
   "cell_type": "markdown",
   "metadata": {
    "slideshow": {
     "slide_type": "slide"
    }
   },
   "source": [
    "The example below tests the ``book`` data structure and its methods by performing a simulation for a random order log."
   ]
  },
  {
   "cell_type": "code",
   "execution_count": 14,
   "metadata": {},
   "outputs": [
    {
     "name": "stdout",
     "output_type": "stream",
     "text": [
      "order(300, 2, 1)\n",
      "order(200, 8, 1)\n",
      "order(800, 7, -1)\n",
      "order(200, 8, -1)\n",
      "transaction(200, 2)\n",
      "transaction(200, 6)\n",
      "order(700, 7, -1)\n",
      "order(800, 5, -1)\n",
      "order(200, 6, -1)\n",
      "transaction(200, 2)\n"
     ]
    }
   ],
   "source": [
    "order_log = random_order_log(1, 7)\n",
    "for entry in simulation(order_log):\n",
    "    print(entry)"
   ]
  },
  {
   "cell_type": "code",
   "execution_count": 15,
   "metadata": {},
   "outputs": [],
   "source": [
    "# End of file."
   ]
  }
 ],
 "metadata": {
  "anaconda-cloud": {},
  "celltoolbar": "Slideshow",
  "kernelspec": {
   "display_name": "Python 3 (ipykernel)",
   "language": "python",
   "name": "python3"
  },
  "language_info": {
   "codemirror_mode": {
    "name": "ipython",
    "version": 3
   },
   "file_extension": ".py",
   "mimetype": "text/x-python",
   "name": "python",
   "nbconvert_exporter": "python",
   "pygments_lexer": "ipython3",
   "version": "3.11.3"
  }
 },
 "nbformat": 4,
 "nbformat_minor": 4
}
